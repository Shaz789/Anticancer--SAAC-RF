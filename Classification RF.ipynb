{
 "cells": [
  {
   "cell_type": "code",
   "execution_count": 1,
   "metadata": {},
   "outputs": [
    {
     "name": "stderr",
     "output_type": "stream",
     "text": [
      "WARNING (theano.configdefaults): g++ not available, if using conda: `conda install m2w64-toolchain`\n",
      "c:\\python\\lib\\site-packages\\theano\\configdefaults.py:560: UserWarning: DeprecationWarning: there is no c++ compiler.This is deprecated and with Theano 0.11 a c++ compiler will be mandatory\n",
      "  warnings.warn(\"DeprecationWarning: there is no c++ compiler.\"\n",
      "WARNING (theano.configdefaults): g++ not detected ! Theano will be unable to execute optimized C-implementations (for both CPU and GPU) and will default to Python implementations. Performance will be severely degraded. To remove this warning, set Theano flags cxx to an empty string.\n",
      "WARNING (theano.tensor.blas): Using NumPy C-API based implementation for BLAS functions.\n"
     ]
    }
   ],
   "source": [
    "import csv\n",
    "import math\n",
    "import numpy as np\n",
    "import pandas as pd\n",
    "import tensorflow as tf\n",
    "from neupy import algorithms\n",
    "from numpy import interp\n",
    "from scipy import interpolate\n",
    "import matplotlib.pyplot as plt\n",
    "from sklearn import metrics\n",
    "from sklearn.metrics import roc_curve, auc\n",
    "from sklearn.model_selection import StratifiedKFold, KFold\n",
    "from sklearn.naive_bayes import BernoulliNB\n",
    "from sklearn.neighbors import KNeighborsClassifier\n",
    "from sklearn.preprocessing import StandardScaler\n",
    "from sklearn.ensemble import RandomForestClassifier, AdaBoostClassifier\n",
    "from sklearn.metrics import matthews_corrcoef\n",
    "from sklearn.metrics import confusion_matrix\n",
    "from sklearn.neural_network import MLPClassifier\n",
    "from sklearn.svm import SVC\n",
    "from sklearn.decomposition import PCA\n",
    "from sklearn import datasets, metrics"
   ]
  },
  {
   "cell_type": "code",
   "execution_count": 2,
   "metadata": {},
   "outputs": [
    {
     "name": "stdout",
     "output_type": "stream",
     "text": [
      "\n",
      "k-fold Cross-Validation\n",
      "The shape of X is: (1144, 210)\n",
      "The shape of Y is: (1144, 1)\n"
     ]
    }
   ],
   "source": [
    "random_state = np.random.RandomState(5)\n",
    "inputSize = 210\n",
    "outputCol = inputSize + 1\n",
    "\n",
    "# 10 Fold Part\n",
    "print('\\nk-fold Cross-Validation')\n",
    "results = pd.DataFrame(columns=['training_score', 'test_score'])\n",
    "fprs, tprs, scores = [], [], []\n",
    "dataset = np.genfromtxt(\"./final dataset.csv\", delimiter=\",\", dtype=float)\n",
    "X = dataset[:, 0:inputSize]\n",
    "Y = dataset[:, inputSize:outputCol]\n",
    "std_scale = StandardScaler().fit(X)\n",
    "X = std_scale.transform(X)\n",
    "cvscores = []\n",
    "shape_X=X.shape\n",
    "shape_Y=Y.shape\n",
    "print ('The shape of X is: ' + str(shape_X))\n",
    "print ('The shape of Y is: ' + str(shape_Y))"
   ]
  },
  {
   "cell_type": "code",
   "execution_count": 3,
   "metadata": {},
   "outputs": [],
   "source": [
    "#std_scale = StandardScaler().fit(X)\n",
    "#X = np.array(X, dtype='float64')\n",
    "#X = std_scale.transform(X)\n",
    "#X = X[:, ~np.isnan(X).any(axis=0)]          # i change its status to activate\n",
    "#pca = PCA(n_components=2)     # i change its status to activate\n",
    "#pca.fit(X)                                   # i change its status to activate\n",
    "#X = pca.transform(X)                          # i change its status to activate\n",
    "#X.shape\n",
    "\n"
   ]
  },
  {
   "cell_type": "markdown",
   "metadata": {},
   "source": [
    "# Classification "
   ]
  },
  {
   "cell_type": "code",
   "execution_count": 4,
   "metadata": {},
   "outputs": [],
   "source": [
    "# Run classifier with cross-validation and plot ROC curves\n",
    "#cv = StratifiedKFold(n_splits=10, shuffle=True)\n",
    "#classifier = BernoulliNB()\n",
    " #classifier = algorithms.PNN(std=10, verbose=False)\n",
    "# classifier = AdaBoostClassifier(n_estimators=100)\n",
    "#classifier = SVC(kernel='linear', probability=True)\n",
    "#classifier = KNeighborsClassifier(n_neighbors=150)\n",
    "#classifier = RandomForestClassifier(n_estimators=3, oob_score=True, random_state=29, warm_start=False)\n",
    "#classifier = MLPClassifier(solver='lbfgs', alpha=1e-5,hidden_layer_sizes=(9, 2), random_state=1)\n",
    "#tprs = []\n",
    "#aucs = []\n",
    "#mean_fpr = np.linspace(0, 1, 100)\n"
   ]
  },
  {
   "cell_type": "markdown",
   "metadata": {},
   "source": [
    "# Independent testing"
   ]
  },
  {
   "cell_type": "code",
   "execution_count": 5,
   "metadata": {},
   "outputs": [
    {
     "name": "stdout",
     "output_type": "stream",
     "text": [
      "\n",
      "Independent testing\n",
      "training dataset 70%\n",
      "(800, 210) (800, 1)\n",
      "testing dataset 30%\n",
      "(344, 210) (344, 1)\n",
      "\n",
      "Independent training data set confusion matrix\n",
      "['True Negative =', 390, 'False Positive =', 9, 'False Negative =', 4, 'True Positive =', 397, 'Accuracy =', 98.38]\n",
      "['Accuracy =', 98.38, 'Sensitivity =', 1.0, 'Precession =', 1.0, 'MCC =', 1.0]\n"
     ]
    },
    {
     "name": "stderr",
     "output_type": "stream",
     "text": [
      "c:\\python\\lib\\site-packages\\sklearn\\neural_network\\_multilayer_perceptron.py:500: ConvergenceWarning: lbfgs failed to converge (status=1):\n",
      "STOP: TOTAL NO. of ITERATIONS REACHED LIMIT.\n",
      "\n",
      "Increase the number of iterations (max_iter) or scale the data as shown in:\n",
      "    https://scikit-learn.org/stable/modules/preprocessing.html\n",
      "  self.n_iter_ = _check_optimize_result(\"lbfgs\", opt_res, self.max_iter)\n"
     ]
    },
    {
     "name": "stdout",
     "output_type": "stream",
     "text": [
      "\n",
      "Independent testing  data set confusion matrix\n",
      "['True Negative =', 131, 'False Positive =', 42, 'False Negative =', 17, 'True Positive =', 154, 'Accuracy =', 82.85]\n",
      "['Accuracy =', 82.85, 'Sensitivity =', 1.0, 'Specificity =', 2.0, 'Precession =', 1.0, 'MCC =', 1.0]\n"
     ]
    },
    {
     "data": {
      "image/png": "[encoded data removed]",
      "text/plain": [
       "<Figure size 432x288 with 1 Axes>"
      ]
     },
     "metadata": {
      "needs_background": "light"
     },
     "output_type": "display_data"
    }
   ],
   "source": [
    "from sklearn.model_selection import train_test_split\n",
    "print('\\nIndependent testing')\n",
    "# resultwriter.writerow(['\\n\\rindependent testing'])\n",
    "# create training and testing vars\n",
    "X_train, X_test, y_train, y_test = train_test_split(X, Y, test_size=0.3)\n",
    "# train dataset\n",
    "print(\"training dataset 70%\")\n",
    "print(X_train.shape, y_train.shape)\n",
    "# test dataset\n",
    "print(\"testing dataset 30%\")\n",
    "print(X_test.shape, y_test.shape)\n",
    "# train the model\n",
    "std_scale = StandardScaler().fit(X_train)\n",
    "X_train = np.array(X_train, dtype='float32')\n",
    "X_train = std_scale.transform(X_train)\n",
    "# X_train = std_scale.transform(X_train)\n",
    "# X_train = np.array(X_train,dtype='float32')\n",
    "X_train = X_train[:, ~np.isnan(X_train).any(axis=0)]\n",
    "pca = PCA(n_components=2)\n",
    "pca.fit(X_train)\n",
    "X_train = pca.transform(X_train)\n",
    "clf = RandomForestClassifier(n_estimators=25, max_depth=16, oob_score=True, n_jobs=-1, warm_start=True).fit(X_train, y_train.ravel())\n",
    "#clf = MLPClassifier(solver='lbfgs', alpha=1e-5,hidden_layer_sizes=(9, 2), random_state=1).fit(X_train, y_train.ravel())\n",
    "pred = np.round(clf.predict(X_train)) #clf\n",
    "tn, fp, fn, tp = confusion_matrix(y_train, pred, labels=[1, 0]).ravel()\n",
    "acc = np.round(((tn + tp) / (tn + fp + fn + tp)) * 100, 2)\n",
    "sn=np.round(tp/(tp+fn))\n",
    "sp=np.round(tn/(tn+fp))\n",
    "prec=np.round(tp/(tp+fp))\n",
    "mcc=np.round((tp*tn-fp*fn)/(math.sqrt((tp+fp)*(tp+fn)*(tn+fn)*(tn+fn))))\n",
    "print(\"\\nIndependent training data set confusion matrix\")\n",
    "print(\n",
    "    (['True Negative =', tn, 'False Positive =', fp, 'False Negative =', fn, 'True Positive =', tp, 'Accuracy =', acc]))\n",
    "print(\n",
    "    (['Accuracy =', acc, 'Sensitivity =', sn, 'Precession =', prec, 'MCC =', mcc]))\n",
    "\n",
    "# now test the model\n",
    "std_scale = StandardScaler().fit(X_test)\n",
    "X_test = std_scale.transform(X_test)\n",
    "pca = PCA(n_components=2)\n",
    "pca.fit(X_test)\n",
    "X_test = pca.transform(X_test)\n",
    "#clf = RandomForestClassifier(n_estimators=25, max_depth=12, oob_score=True, n_jobs=-1, warm_start=True).fit(X_test, y_test.ravel())\n",
    "clf = MLPClassifier(solver='lbfgs', alpha=1e-5,hidden_layer_sizes=(9, 2), random_state=1).fit(X_test, y_test.ravel())\n",
    "pred_test = np.round(clf.predict(X_test)) # clf\n",
    "tn1, fp1, fn1, tp1 = confusion_matrix(y_test, pred_test, labels=[1, 0]).ravel()\n",
    "acc1 = np.round(((tn1 + tp1) / (tn1 + fp1 + fn1 + tp1)) * 100, 2)\n",
    "sn1=np.round(tp1/(tp1+fn1))\n",
    "sp1=np.round(tn/(tn1+fp1))\n",
    "prec1=np.round(tp1/(tp1+fp1))\n",
    "mcc1=np.round((tp1*tn1-fp1*fn1)/(math.sqrt((tp1+fp1)*(tp1+fn1)*(tn1+fn1)*(tn1+fn1))))\n",
    "print(\"\\nIndependent testing  data set confusion matrix\")\n",
    "print((['True Negative =', tn1, 'False Positive =', fp1, 'False Negative =', fn1, 'True Positive =', tp1, 'Accuracy =',\n",
    "        acc1]))\n",
    "print(\n",
    "    (['Accuracy =', acc1, 'Sensitivity =', sn1, 'Specificity =', sp1, 'Precession =', prec1, 'MCC =', mcc1]))\n",
    "with open('./result2.csv', 'w', newline='') as csvfile:\n",
    "    resultwriter = csv.writer(csvfile, delimiter=',', quotechar='|')\n",
    "    resultwriter.writerow(['Independent testing'])\n",
    "    resultwriter.writerow(['training dataset 70%'])\n",
    "    resultwriter.writerow([X_train.shape, y_train.shape])\n",
    "    resultwriter.writerow(['testing dataset 30%'])\n",
    "    resultwriter.writerow([X_test.shape, y_test.shape])\n",
    "    resultwriter.writerow([\"training data set confusion matrix\"])\n",
    "    resultwriter.writerow((\n",
    "                          ['True Negative =', tn, 'False Positive =', fp, 'False Negative =', fn, 'True Positive =', tp,\n",
    "                           'Accuracy =', acc]))\n",
    "    resultwriter.writerow((['testing  data set confusion matrix']))\n",
    "    resultwriter.writerow((['True Negative =', tn1, 'False Positive =', fp1, 'False Negative =', fn1, 'True Positive =',\n",
    "                            tp1, 'Accuracy =', acc1]))\n",
    "\n",
    "from matplotlib import pyplot\n",
    "\n",
    "ns_probs1 = [0 for _ in range(len(y_test))]\n",
    "lr_probs1 = clf.predict_proba(X_test) #clf\n",
    "# keep probabilities for the positive outcome only\n",
    "lr_probs1 = lr_probs1[:, 1]\n",
    "\n",
    "# calculate roc curves\n",
    "ns_fpr3, ns_tpr3, _ = roc_curve(y_test, ns_probs1)\n",
    "lr_fpr3, lr_tpr3, _ = roc_curve(y_test, lr_probs1)\n",
    "\n",
    "# plot the roc curve for the model\n",
    "pyplot.plot(ns_fpr3, ns_tpr3, linestyle='--')\n",
    "pyplot.plot(lr_fpr3, lr_tpr3, marker='.', label='Independent Testing')\n",
    "# axis labels\n",
    "pyplot.xlabel('False Positive Rate')\n",
    "pyplot.ylabel('True Positive Rate')\n",
    "# show the legend\n",
    "pyplot.legend()\n",
    "# show the plot\n",
    "pyplot.show()\n",
    "\n",
    "\n"
   ]
  },
  {
   "cell_type": "markdown",
   "metadata": {},
   "source": [
    "# K fold Validation"
   ]
  },
  {
   "cell_type": "code",
   "execution_count": 6,
   "metadata": {},
   "outputs": [
    {
     "name": "stdout",
     "output_type": "stream",
     "text": [
      "\n",
      "10-fold Cross Validation\n",
      "\n",
      "Fold : 1\n",
      "[57, 1, 0, 57, 'Accuracy =', 99.13, 'Sensitivity =', 1.0, 'Precession =', 0.98, 'MCC =', 0.99]\n",
      "\n",
      "Fold : 2\n",
      "[56, 2, 0, 57, 'Accuracy =', 98.26, 'Sensitivity =', 1.0, 'Precession =', 0.97, 'MCC =', 0.98]\n",
      "\n",
      "Fold : 3\n",
      "[57, 0, 0, 58, 'Accuracy =', 100.0, 'Sensitivity =', 1.0, 'Precession =', 1.0, 'MCC =', 1.0]\n",
      "\n",
      "Fold : 4\n",
      "[56, 1, 0, 58, 'Accuracy =', 99.13, 'Sensitivity =', 1.0, 'Precession =', 0.98, 'MCC =', 0.99]\n",
      "\n",
      "Fold : 5\n",
      "[55, 2, 1, 56, 'Accuracy =', 97.37, 'Sensitivity =', 0.98, 'Precession =', 0.97, 'MCC =', 0.96]\n",
      "\n",
      "Fold : 6\n",
      "[56, 1, 1, 56, 'Accuracy =', 98.25, 'Sensitivity =', 0.98, 'Precession =', 0.98, 'MCC =', 0.96]\n",
      "\n",
      "Fold : 7\n",
      "[56, 1, 0, 57, 'Accuracy =', 99.12, 'Sensitivity =', 1.0, 'Precession =', 0.98, 'MCC =', 0.99]\n",
      "\n",
      "Fold : 8\n",
      "[56, 1, 0, 57, 'Accuracy =', 99.12, 'Sensitivity =', 1.0, 'Precession =', 0.98, 'MCC =', 0.99]\n",
      "\n",
      "Fold : 9\n",
      "[55, 2, 0, 57, 'Accuracy =', 98.25, 'Sensitivity =', 1.0, 'Precession =', 0.97, 'MCC =', 0.98]\n",
      "\n",
      "Fold : 10\n",
      "[57, 0, 1, 56, 'Accuracy =', 99.12, 'Sensitivity =', 0.98, 'Precession =', 1.0, 'MCC =', 0.97]\n",
      "\n",
      "Final 10CV Score =  98.78\n"
     ]
    },
    {
     "data": {
      "image/png": "[encoded data removed]",
      "text/plain": [
       "<Figure size 432x288 with 1 Axes>"
      ]
     },
     "metadata": {
      "needs_background": "light"
     },
     "output_type": "display_data"
    }
   ],
   "source": [
    "print('\\n10-fold Cross Validation')\n",
    "self_scores = []\n",
    "tn, fp, fn, tp = confusion_matrix(y_train, pred, labels=[1, 0]).ravel()\n",
    "self_scores.append([tn, fp, fn, tp, acc])\n",
    "kfold = StratifiedKFold(n_splits=10, shuffle=True)\n",
    "cvscores = []\n",
    "iterator = 1\n",
    "cv_score = 0\n",
    "for train, test in kfold.split(X, Y):\n",
    "    print('\\nFold : ' + str(iterator))\n",
    "    clf = RandomForestClassifier(n_estimators=25, max_depth=25, oob_score=True, n_jobs=-1, warm_start=True).fit(X, Y.ravel())\n",
    "    #clf = MLPClassifier(solver='lbfgs', alpha=1e-5,hidden_layer_sizes=(9, 2), random_state=1).fit(X, Y.ravel())\n",
    "    pred = np.round(clf.predict(X[test])) # clf\n",
    "    tn, fp, fn, tp = confusion_matrix(Y[test], pred, labels=[1, 0]).ravel()\n",
    "    acc = np.round(((tn + tp) / (tn + fp + fn + tp)) * 100, 2)\n",
    "    sn=np.round((tp/(tp+fn)), 2)\n",
    "    sp=np.round((tn/(tn+fp)), 2)\n",
    "    prec=np.round((tp/(tp+fp)), 2)\n",
    "    mcc=np.round(((tp*tn-fp*fn)/(math.sqrt((tp+fp)*(tp+fn)*(tn+fn)*(tn+fn)))), 2)\n",
    "    cvscores.append([tn, fp, fn, tp, acc, sn, sp, prec, mcc])\n",
    "    iterator = iterator + 1\n",
    "    print([tn, fp, fn, tp, 'Accuracy =', acc, 'Sensitivity =', sn, 'Precession =', prec, 'MCC =', mcc])\n",
    "    cv_score = cv_score + acc\n",
    "print('\\n\\rFinal 10CV Score = ', np.round(cv_score / kfold.n_splits, 2))\n",
    "with open('./result1.csv', 'w', newline='') as csvfile:\n",
    "    resultwriter = csv.writer(csvfile, delimiter=',', quotechar='|')\n",
    "    resultwriter.writerow(['Self-Consistency'])\n",
    "    resultwriter.writerow(['True Negative', 'False Positive', 'False Negative', 'True Positive', 'Accuracy'])\n",
    "    resultwriter.writerow(self_scores)\n",
    "    resultwriter.writerow(['\\n10-fold Cross Validation'])\n",
    "    resultwriter.writerow(['True Negative', 'False Positive', 'False Negative', 'True Positive', 'Accuracy'])\n",
    "    for i in range(cvscores.__len__()):\n",
    "        resultwriter.writerow(cvscores[i])\n",
    "    resultwriter.writerow(['The Final 10CV Score', '', '', '', np.round(cv_score / kfold.n_splits, 2)])\n",
    "\n",
    "from matplotlib import pyplot\n",
    "\n",
    "ns_probs1 = [0 for _ in range(len(Y))]\n",
    "lr_probs1 = clf.predict_proba(X)# clf\n",
    "# keep probabilities for the positive outcome only\n",
    "lr_probs1 = lr_probs1[:, 1]\n",
    "# calculate roc curves\n",
    "ns_fpr2, ns_tpr2, _ = roc_curve(Y, ns_probs1)\n",
    "lr_fpr2, lr_tpr2, _ = roc_curve(Y, lr_probs1)\n",
    "# plot the roc curve for the model\n",
    "pyplot.plot(ns_fpr2, ns_tpr2, linestyle='--')\n",
    "pyplot.plot(lr_fpr2, lr_tpr2, marker='.', label='10-fold Cross Validation')\n",
    "# axis labels\n",
    "\n",
    "pyplot.xlabel('False Positive Rate')\n",
    "pyplot.ylabel('True Positive Rate')\n",
    "# show the legend\n",
    "pyplot.legend()\n",
    "# show the plot\n",
    "pyplot.show()"
   ]
  },
  {
   "cell_type": "code",
   "execution_count": null,
   "metadata": {},
   "outputs": [],
   "source": []
  },
  {
   "cell_type": "markdown",
   "metadata": {},
   "source": [
    "# Self Consistency\n"
   ]
  },
  {
   "cell_type": "code",
   "execution_count": 7,
   "metadata": {},
   "outputs": [
    {
     "name": "stdout",
     "output_type": "stream",
     "text": [
      "\n",
      "Self-Consistency\n",
      "[561, 11, 4, 568, 98.69, 0.99, 'Accuracy =', 98.69, 'specificity=', 0.98, 'Sensitivity =', 0.99, 'Precession =', 0.98, 'MCC =', 0.98]\n"
     ]
    },
    {
     "name": "stderr",
     "output_type": "stream",
     "text": [
      "c:\\python\\lib\\site-packages\\sklearn\\ensemble\\_forest.py:541: UserWarning: Some inputs do not have OOB scores. This probably means too few trees were used to compute any reliable oob estimates.\n",
      "  warn(\"Some inputs do not have OOB scores. \"\n"
     ]
    },
    {
     "data": {
      "image/png": "[encoded data removed]",
      "text/plain": [
       "<Figure size 432x288 with 1 Axes>"
      ]
     },
     "metadata": {
      "needs_background": "light"
     },
     "output_type": "display_data"
    },
    {
     "data": {
      "text/plain": [
       "98.69"
      ]
     },
     "execution_count": 7,
     "metadata": {},
     "output_type": "execute_result"
    }
   ],
   "source": [
    "import matplotlib.pyplot as pyplot\n",
    "print('\\nSelf-Consistency')\n",
    "clf = RandomForestClassifier(n_estimators=16, max_depth=40, oob_score=True, n_jobs=-1, warm_start=True).fit(X, Y.ravel())\n",
    "#clf = MLPClassifier(solver='lbfgs', alpha=1e-5,hidden_layer_sizes=(9, 2), random_state=1).fit(X, Y.ravel())\n",
    "pred = np.round(clf.predict(X)) # clf\n",
    "tn, fp, fn, tp = confusion_matrix(Y, pred, labels=[1, 0]).ravel()\n",
    "acc = np.round(((tn + tp) / (tn + fp + fn + tp)) * 100, 2)\n",
    "sn=np.round((tp/(tp+fn)), 2)\n",
    "sp=np.round((tn/(tn+fp)), 2)\n",
    "prec=np.round((tp/(tp+fp)), 2)\n",
    "mcc=np.round(((tp*tn-fp*fn)/(math.sqrt((tp+fp)*(tp+fn)*(tn+fn)*(tn+fn)))), 2)\n",
    "print([tn, fp, fn, tp, acc, sn, 'Accuracy =', acc, 'specificity=', sp, 'Sensitivity =', sn, 'Precession =', prec, 'MCC =', mcc ])\n",
    "ns_probs1 = [0 for _ in range(len(Y))]\n",
    "lr_probs1 = clf.predict_proba(X) # clf\n",
    "# keep probabilities for the positive outcome only\n",
    "lr_probs1 = lr_probs1[:, 1]\n",
    "ns_fpr1, ns_tpr1, _ = roc_curve(Y, ns_probs1)\n",
    "lr_fpr1, lr_tpr1, _ = roc_curve(Y, lr_probs1)\n",
    "# plot the roc curve for the model\n",
    "pyplot.plot(ns_fpr1, ns_tpr1, linestyle='--')\n",
    "pyplot.plot(lr_fpr1, lr_tpr1, marker='.', label='Self-Consistency')\n",
    "# axis labels\n",
    "pyplot.xlabel('False Positive Rate')\n",
    "pyplot.ylabel('True Positive Rate')\n",
    "# show the legend\n",
    "pyplot.legend()\n",
    "# show the plot\n",
    "pyplot.show()\n",
    "acc"
   ]
  },
  {
   "cell_type": "markdown",
   "metadata": {},
   "source": [
    "# JackKnife"
   ]
  },
  {
   "cell_type": "code",
   "execution_count": 8,
   "metadata": {},
   "outputs": [
    {
     "name": "stdout",
     "output_type": "stream",
     "text": [
      "\n",
      "Jacknife testing\n",
      "\n",
      "Jacknife : 1\n",
      "[58, 0, 0, 0, 'Accuracy =', 100.0, 'Sensitivity =', nan, 'specificity=', 1.0, 'Precession =', nan, 'MCC =', nan]\n",
      "\n",
      "Jacknife : 2\n",
      "[58, 0, 0, 0, 'Accuracy =', 100.0, 'Sensitivity =', nan, 'specificity=', 1.0, 'Precession =', nan, 'MCC =', nan]\n",
      "\n",
      "Jacknife : 3\n",
      "[55, 3, 0, 0, 'Accuracy =', 94.83, 'Sensitivity =', nan, 'specificity=', 1.0, 'Precession =', 0.0, 'MCC =', nan]\n",
      "\n",
      "Jacknife : 4\n",
      "[58, 0, 0, 0, 'Accuracy =', 100.0, 'Sensitivity =', nan, 'specificity=', 1.0, 'Precession =', nan, 'MCC =', nan]\n",
      "\n",
      "Jacknife : 5\n",
      "[54, 3, 0, 0, 'Accuracy =', 94.74, 'Sensitivity =', nan, 'specificity=', 1.0, 'Precession =', 0.0, 'MCC =', nan]\n",
      "\n",
      "Jacknife : 6\n",
      "[57, 0, 0, 0, 'Accuracy =', 100.0, 'Sensitivity =', nan, 'specificity=', 1.0, 'Precession =', nan, 'MCC =', nan]\n",
      "\n",
      "Jacknife : 7\n",
      "[57, 0, 0, 0, 'Accuracy =', 100.0, 'Sensitivity =', nan, 'specificity=', 1.0, 'Precession =', nan, 'MCC =', nan]\n",
      "\n",
      "Jacknife : 8\n",
      "[18, 1, 0, 38, 'Accuracy =', 98.25, 'Sensitivity =', 1.0, 'specificity=', 1.0, 'Precession =', 1.0, 'MCC =', 1.0]\n",
      "\n",
      "Jacknife : 9\n",
      "[0, 0, 0, 57, 'Accuracy =', 100.0, 'Sensitivity =', 1.0, 'specificity=', nan, 'Precession =', 1.0, 'MCC =', nan]\n",
      "\n",
      "Jacknife : 10\n",
      "[0, 0, 1, 56, 'Accuracy =', 98.25, 'Sensitivity =', 1.0, 'specificity=', nan, 'Precession =', 1.0, 'MCC =', 0.0]\n",
      "\n",
      "Jacknife : 11\n",
      "[0, 0, 0, 57, 'Accuracy =', 100.0, 'Sensitivity =', 1.0, 'specificity=', nan, 'Precession =', 1.0, 'MCC =', nan]\n",
      "\n",
      "Jacknife : 12\n",
      "[0, 0, 0, 57, 'Accuracy =', 100.0, 'Sensitivity =', 1.0, 'specificity=', nan, 'Precession =', 1.0, 'MCC =', nan]\n",
      "\n",
      "Jacknife : 13\n",
      "[0, 0, 1, 56, 'Accuracy =', 98.25, 'Sensitivity =', 1.0, 'specificity=', nan, 'Precession =', 1.0, 'MCC =', 0.0]\n",
      "\n",
      "Jacknife : 14\n",
      "[0, 0, 1, 56, 'Accuracy =', 98.25, 'Sensitivity =', 1.0, 'specificity=', nan, 'Precession =', 1.0, 'MCC =', 0.0]\n",
      "\n",
      "Jacknife : 15\n",
      "[15, 0, 0, 42, 'Accuracy =', 100.0, 'Sensitivity =', 1.0, 'specificity=', 1.0, 'Precession =', 1.0, 'MCC =', 1.0]\n",
      "\n",
      "Jacknife : 16\n",
      "[56, 1, 0, 0, 'Accuracy =', 98.25, 'Sensitivity =', nan, 'specificity=', 1.0, 'Precession =', 0.0, 'MCC =', nan]\n",
      "\n",
      "Jacknife : 17\n",
      "[57, 0, 0, 0, 'Accuracy =', 100.0, 'Sensitivity =', nan, 'specificity=', 1.0, 'Precession =', nan, 'MCC =', nan]\n",
      "\n",
      "Jacknife : 18\n",
      "[19, 2, 0, 36, 'Accuracy =', 96.49, 'Sensitivity =', 1.0, 'specificity=', 1.0, 'Precession =', 1.0, 'MCC =', 1.0]\n",
      "\n",
      "Jacknife : 19\n",
      "[0, 0, 0, 57, 'Accuracy =', 100.0, 'Sensitivity =', 1.0, 'specificity=', nan, 'Precession =', 1.0, 'MCC =', nan]\n",
      "\n",
      "Jacknife : 20\n",
      "[0, 0, 1, 56, 'Accuracy =', 98.25, 'Sensitivity =', 1.0, 'specificity=', nan, 'Precession =', 1.0, 'MCC =', 0.0]\n",
      "\n",
      "Final Jacknife Score =  98.78\n"
     ]
    },
    {
     "data": {
      "image/png": "[encoded data removed]",
      "text/plain": [
       "<Figure size 432x288 with 1 Axes>"
      ]
     },
     "metadata": {
      "needs_background": "light"
     },
     "output_type": "display_data"
    },
    {
     "ename": "ValueError",
     "evalue": "Found input variables with inconsistent numbers of samples: [344, 1144]",
     "output_type": "error",
     "traceback": [
      "\u001b[1;31m---------------------------------------------------------------------------\u001b[0m",
      "\u001b[1;31mValueError\u001b[0m                                Traceback (most recent call last)",
      "\u001b[1;32m<ipython-input-8-9735f584e185>\u001b[0m in \u001b[0;36m<module>\u001b[1;34m\u001b[0m\n\u001b[0;32m     63\u001b[0m \u001b[1;33m\u001b[0m\u001b[0m\n\u001b[0;32m     64\u001b[0m \u001b[1;31m# plot the roc curve for the model\u001b[0m\u001b[1;33m\u001b[0m\u001b[1;33m\u001b[0m\u001b[1;33m\u001b[0m\u001b[0m\n\u001b[1;32m---> 65\u001b[1;33m \u001b[0mns_fpr2\u001b[0m\u001b[1;33m,\u001b[0m \u001b[0mns_tpr2\u001b[0m\u001b[1;33m,\u001b[0m \u001b[0m_\u001b[0m \u001b[1;33m=\u001b[0m \u001b[0mroc_curve\u001b[0m\u001b[1;33m(\u001b[0m\u001b[0my_test\u001b[0m\u001b[1;33m,\u001b[0m \u001b[0mns_probs1\u001b[0m\u001b[1;33m)\u001b[0m \u001b[1;31m# this is needed to be check as I suppose to be true but needed verification\u001b[0m\u001b[1;33m\u001b[0m\u001b[1;33m\u001b[0m\u001b[0m\n\u001b[0m\u001b[0;32m     66\u001b[0m \u001b[0mpyplot\u001b[0m\u001b[1;33m.\u001b[0m\u001b[0mplot\u001b[0m\u001b[1;33m(\u001b[0m\u001b[0mns_fpr2\u001b[0m\u001b[1;33m,\u001b[0m \u001b[0mns_tpr2\u001b[0m\u001b[1;33m,\u001b[0m \u001b[0mlinestyle\u001b[0m\u001b[1;33m=\u001b[0m\u001b[1;34m'--'\u001b[0m\u001b[1;33m,\u001b[0m \u001b[0mcolor\u001b[0m\u001b[1;33m=\u001b[0m\u001b[1;34m'Blue'\u001b[0m\u001b[1;33m)\u001b[0m\u001b[1;33m\u001b[0m\u001b[1;33m\u001b[0m\u001b[0m\n\u001b[0;32m     67\u001b[0m \u001b[0mpyplot\u001b[0m\u001b[1;33m.\u001b[0m\u001b[0mplot\u001b[0m\u001b[1;33m(\u001b[0m\u001b[0mlr_fpr2\u001b[0m\u001b[1;33m,\u001b[0m \u001b[0mlr_tpr2\u001b[0m\u001b[1;33m,\u001b[0m \u001b[0mlinestyle\u001b[0m\u001b[1;33m=\u001b[0m\u001b[1;34m'-'\u001b[0m\u001b[1;33m,\u001b[0m \u001b[0mcolor\u001b[0m\u001b[1;33m=\u001b[0m\u001b[1;34m'Green'\u001b[0m\u001b[1;33m,\u001b[0m \u001b[0mlabel\u001b[0m\u001b[1;33m=\u001b[0m\u001b[1;34m'10-fold Cross Validation'\u001b[0m\u001b[1;33m)\u001b[0m\u001b[1;33m\u001b[0m\u001b[1;33m\u001b[0m\u001b[0m\n",
      "\u001b[1;32mc:\\python\\lib\\site-packages\\sklearn\\utils\\validation.py\u001b[0m in \u001b[0;36minner_f\u001b[1;34m(*args, **kwargs)\u001b[0m\n\u001b[0;32m     61\u001b[0m             \u001b[0mextra_args\u001b[0m \u001b[1;33m=\u001b[0m \u001b[0mlen\u001b[0m\u001b[1;33m(\u001b[0m\u001b[0margs\u001b[0m\u001b[1;33m)\u001b[0m \u001b[1;33m-\u001b[0m \u001b[0mlen\u001b[0m\u001b[1;33m(\u001b[0m\u001b[0mall_args\u001b[0m\u001b[1;33m)\u001b[0m\u001b[1;33m\u001b[0m\u001b[1;33m\u001b[0m\u001b[0m\n\u001b[0;32m     62\u001b[0m             \u001b[1;32mif\u001b[0m \u001b[0mextra_args\u001b[0m \u001b[1;33m<=\u001b[0m \u001b[1;36m0\u001b[0m\u001b[1;33m:\u001b[0m\u001b[1;33m\u001b[0m\u001b[1;33m\u001b[0m\u001b[0m\n\u001b[1;32m---> 63\u001b[1;33m                 \u001b[1;32mreturn\u001b[0m \u001b[0mf\u001b[0m\u001b[1;33m(\u001b[0m\u001b[1;33m*\u001b[0m\u001b[0margs\u001b[0m\u001b[1;33m,\u001b[0m \u001b[1;33m**\u001b[0m\u001b[0mkwargs\u001b[0m\u001b[1;33m)\u001b[0m\u001b[1;33m\u001b[0m\u001b[1;33m\u001b[0m\u001b[0m\n\u001b[0m\u001b[0;32m     64\u001b[0m \u001b[1;33m\u001b[0m\u001b[0m\n\u001b[0;32m     65\u001b[0m             \u001b[1;31m# extra_args > 0\u001b[0m\u001b[1;33m\u001b[0m\u001b[1;33m\u001b[0m\u001b[1;33m\u001b[0m\u001b[0m\n",
      "\u001b[1;32mc:\\python\\lib\\site-packages\\sklearn\\metrics\\_ranking.py\u001b[0m in \u001b[0;36mroc_curve\u001b[1;34m(y_true, y_score, pos_label, sample_weight, drop_intermediate)\u001b[0m\n\u001b[0;32m    911\u001b[0m \u001b[1;33m\u001b[0m\u001b[0m\n\u001b[0;32m    912\u001b[0m     \"\"\"\n\u001b[1;32m--> 913\u001b[1;33m     fps, tps, thresholds = _binary_clf_curve(\n\u001b[0m\u001b[0;32m    914\u001b[0m         y_true, y_score, pos_label=pos_label, sample_weight=sample_weight)\n\u001b[0;32m    915\u001b[0m \u001b[1;33m\u001b[0m\u001b[0m\n",
      "\u001b[1;32mc:\\python\\lib\\site-packages\\sklearn\\metrics\\_ranking.py\u001b[0m in \u001b[0;36m_binary_clf_curve\u001b[1;34m(y_true, y_score, pos_label, sample_weight)\u001b[0m\n\u001b[0;32m    691\u001b[0m         \u001b[1;32mraise\u001b[0m \u001b[0mValueError\u001b[0m\u001b[1;33m(\u001b[0m\u001b[1;34m\"{0} format is not supported\"\u001b[0m\u001b[1;33m.\u001b[0m\u001b[0mformat\u001b[0m\u001b[1;33m(\u001b[0m\u001b[0my_type\u001b[0m\u001b[1;33m)\u001b[0m\u001b[1;33m)\u001b[0m\u001b[1;33m\u001b[0m\u001b[1;33m\u001b[0m\u001b[0m\n\u001b[0;32m    692\u001b[0m \u001b[1;33m\u001b[0m\u001b[0m\n\u001b[1;32m--> 693\u001b[1;33m     \u001b[0mcheck_consistent_length\u001b[0m\u001b[1;33m(\u001b[0m\u001b[0my_true\u001b[0m\u001b[1;33m,\u001b[0m \u001b[0my_score\u001b[0m\u001b[1;33m,\u001b[0m \u001b[0msample_weight\u001b[0m\u001b[1;33m)\u001b[0m\u001b[1;33m\u001b[0m\u001b[1;33m\u001b[0m\u001b[0m\n\u001b[0m\u001b[0;32m    694\u001b[0m     \u001b[0my_true\u001b[0m \u001b[1;33m=\u001b[0m \u001b[0mcolumn_or_1d\u001b[0m\u001b[1;33m(\u001b[0m\u001b[0my_true\u001b[0m\u001b[1;33m)\u001b[0m\u001b[1;33m\u001b[0m\u001b[1;33m\u001b[0m\u001b[0m\n\u001b[0;32m    695\u001b[0m     \u001b[0my_score\u001b[0m \u001b[1;33m=\u001b[0m \u001b[0mcolumn_or_1d\u001b[0m\u001b[1;33m(\u001b[0m\u001b[0my_score\u001b[0m\u001b[1;33m)\u001b[0m\u001b[1;33m\u001b[0m\u001b[1;33m\u001b[0m\u001b[0m\n",
      "\u001b[1;32mc:\\python\\lib\\site-packages\\sklearn\\utils\\validation.py\u001b[0m in \u001b[0;36mcheck_consistent_length\u001b[1;34m(*arrays)\u001b[0m\n\u001b[0;32m    260\u001b[0m     \u001b[0muniques\u001b[0m \u001b[1;33m=\u001b[0m \u001b[0mnp\u001b[0m\u001b[1;33m.\u001b[0m\u001b[0munique\u001b[0m\u001b[1;33m(\u001b[0m\u001b[0mlengths\u001b[0m\u001b[1;33m)\u001b[0m\u001b[1;33m\u001b[0m\u001b[1;33m\u001b[0m\u001b[0m\n\u001b[0;32m    261\u001b[0m     \u001b[1;32mif\u001b[0m \u001b[0mlen\u001b[0m\u001b[1;33m(\u001b[0m\u001b[0muniques\u001b[0m\u001b[1;33m)\u001b[0m \u001b[1;33m>\u001b[0m \u001b[1;36m1\u001b[0m\u001b[1;33m:\u001b[0m\u001b[1;33m\u001b[0m\u001b[1;33m\u001b[0m\u001b[0m\n\u001b[1;32m--> 262\u001b[1;33m         raise ValueError(\"Found input variables with inconsistent numbers of\"\n\u001b[0m\u001b[0;32m    263\u001b[0m                          \" samples: %r\" % [int(l) for l in lengths])\n\u001b[0;32m    264\u001b[0m \u001b[1;33m\u001b[0m\u001b[0m\n",
      "\u001b[1;31mValueError\u001b[0m: Found input variables with inconsistent numbers of samples: [344, 1144]"
     ]
    },
    {
     "data": {
      "image/png": "[encoded data removed]",
      "text/plain": [
       "<Figure size 432x288 with 1 Axes>"
      ]
     },
     "metadata": {
      "needs_background": "light"
     },
     "output_type": "display_data"
    }
   ],
   "source": [
    "kfold = KFold(n_splits=20, shuffle=False)  # Removed Stratified Keyword for JackKnife\n",
    "cvscores = []\n",
    "iterator = 1\n",
    "cv_score = 0\n",
    "\n",
    "# Normalization\n",
    "std_scale = StandardScaler().fit(X)\n",
    "X = np.array(X, dtype='float64')\n",
    "#X = std_scale.transform(X)\n",
    "# pca = decomposition.PCA(n_components=2)\n",
    "# pca.fit(X)\n",
    "# X = pca.transform(X)\n",
    "print('\\nJacknife testing')\n",
    "for train, test in kfold.split(X, Y):\n",
    "    print('\\nJacknife : ' + str(iterator))\n",
    "    clf = RandomForestClassifier(n_estimators=30, max_depth=25, oob_score=True, n_jobs=-1, warm_start=False).fit(X, Y.ravel())\n",
    "    #clf = MLPClassifier(solver='lbfgs', alpha=1e-5,hidden_layer_sizes=(9, 2), random_state=1).fit(X, Y.ravel())\n",
    "    pred = np.round(clf.predict(X[test]))\n",
    "    tn2, fp2, fn2, tp2 = confusion_matrix(Y[test], pred, labels=[1, 0]).ravel()\n",
    "    acc2 = np.round(((tn2 + tp2)/ (tn2 + fp2 + fn2 + tp2)) * 100, 2)\n",
    "    sn2=np.round(tp2/(tp2+fn2))\n",
    "    sp2=np.round(tn2/(tn2+fp2))\n",
    "    prec2=np.round(tp2/(tp2+fp2))\n",
    "    mcc2=np.round((tp2*tn2-fp2*fn2)/(math.sqrt((tp2+fp2)*(tp2+fn2)*(tn2+fn2)*(tn2+fn2))))\n",
    "    cvscores.append([tn2, fp2, fn2, tp2, acc2, sn2, sp2, prec2, mcc2])\n",
    "    iterator = iterator + 1\n",
    "    print([tn2, fp2, fn2, tp2, 'Accuracy =', acc2, 'Sensitivity =', sn2, 'specificity=', sp2, 'Precession =', prec2, 'MCC =', mcc2])\n",
    "    cv_score = cv_score + acc2\n",
    "print('\\n\\rFinal Jacknife Score = ', np.round(cv_score / kfold.n_splits, 2))\n",
    "with open('./result3.csv', 'w', newline='') as csvfile:\n",
    "    resultwriter = csv.writer(csvfile, delimiter=',', quotechar='|')\n",
    "    resultwriter.writerow(['\\nJacknife'])\n",
    "    resultwriter.writerow(['True Negative' 'False Positive' 'False Negative' 'True Positive' 'Accuracy'])\n",
    "    for i in range(cvscores.__len__()):\n",
    "        resultwriter.writerow(cvscores[i])\n",
    "    resultwriter.writerow(['The Final Jacknife Score', '', '', '', np.round(cv_score / kfold.n_splits, 2)])\n",
    "\n",
    "from matplotlib import pyplot\n",
    "\n",
    "ns_probs1 = [0 for _ in range(len(Y))]\n",
    "lr_probs1 = clf.predict_proba(X)#clf\n",
    "# keep probabilities for the positive outcome only\n",
    "lr_probs1 = lr_probs1[:, 1]\n",
    "\n",
    "# calculate roc curves\n",
    "ns_fpr4, ns_tpr4, _ = roc_curve(Y, ns_probs1)\n",
    "lr_fpr4, lr_tpr4, _ = roc_curve(Y, lr_probs1)\n",
    "\n",
    "# plot the roc curve for the model\n",
    "pyplot.plot(ns_fpr4, ns_tpr4, linestyle='--')\n",
    "pyplot.plot(lr_fpr4, lr_tpr4, marker='.', label='Jacknife Testing')\n",
    "# axis labels\n",
    "pyplot.xlabel('False Positive Rate')\n",
    "pyplot.ylabel('True Positive Rate')\n",
    "# show the legend\n",
    "pyplot.legend()\n",
    "# show the plot\n",
    "pyplot.show()\n",
    "\n",
    "# plot the roc curve for the model\n",
    "pyplot.plot(ns_fpr1, ns_tpr1, linestyle='--', )\n",
    "pyplot.plot(lr_fpr1, lr_tpr1, marker='.', color='purple', label='Self-Consistency')\n",
    "\n",
    "# plot the roc curve for the model\n",
    "ns_fpr2, ns_tpr2, _ = roc_curve(y_test, ns_probs1) # this is needed to be check as I suppose to be true but needed verification\n",
    "pyplot.plot(ns_fpr2, ns_tpr2, linestyle='--', color='Blue')\n",
    "pyplot.plot(lr_fpr2, lr_tpr2, linestyle='-', color='Green', label='10-fold Cross Validation')\n",
    "\n",
    "# plot the roc curve for the model\n",
    "pyplot.plot(ns_fpr3, ns_tpr3, linestyle='--')\n",
    "pyplot.plot(lr_fpr3, lr_tpr3, marker='.', color='Cyan', label='Independent Testing')\n",
    "\n",
    "# plot the roc curve for the model\n",
    "pyplot.plot(ns_fpr4, ns_tpr4, linestyle='--')\n",
    "pyplot.plot(lr_fpr4, lr_tpr4, marker='.', color='yellow', label='Jacknife Testing')\n",
    "\n",
    "# axis labels\n",
    "pyplot.xlabel('False Positive Rate')\n",
    "pyplot.ylabel('True Positive Rate')\n",
    "# show the legend\n",
    "pyplot.legend()\n",
    "# show the plot\n",
    "pyplot.show()"
   ]
  },
  {
   "cell_type": "code",
   "execution_count": null,
   "metadata": {},
   "outputs": [],
   "source": []
  }
 ],
 "metadata": {
  "kernelspec": {
   "display_name": "Python 3",
   "language": "python",
   "name": "python3"
  },
  "language_info": {
   "codemirror_mode": {
    "name": "ipython",
    "version": 3
   },
   "file_extension": ".py",
   "mimetype": "text/x-python",
   "name": "python",
   "nbconvert_exporter": "python",
   "pygments_lexer": "ipython3",
   "version": "3.8.5"
  }
 },
 "nbformat": 4,
 "nbformat_minor": 4
}
